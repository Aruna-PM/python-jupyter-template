{
 "cells": [
  {
   "cell_type": "markdown",
   "metadata": {},
   "source": [
    "### Exercise 1: Line Plot Customization"
   ]
  },
  {
   "cell_type": "code",
   "execution_count": null,
   "metadata": {},
   "outputs": [
    {
     "ename": "",
     "evalue": "",
     "output_type": "error",
     "traceback": [
      "\u001b[1;31mRunning cells with 'Python 3.9.2' requires the ipykernel package.\n",
      "\u001b[1;31m<a href='command:jupyter.createPythonEnvAndSelectController'>Create a Python Environment</a> with the required packages."
     ]
    }
   ],
   "source": [
    "# TASK: Create a line plot with x values ranging from 0 to 10 and y values as the square of x.\n",
    "# Customize the plot by adding a title, labels for both axes, and a grid.\n",
    "import matplotlib.pyplot as plt\n",
    "import numpy as np\n",
    "\n",
    "# Create data\n",
    "x = np.linspace(0, 10, 100)  # 100 points between 0 and 10\n",
    "y = x ** 2  # y values as the square of x\n",
    "\n",
    "# Create the plot\n",
    "plt.figure(figsize=(8, 5))  # Set figure size\n",
    "plt.plot(x, y, label='y = x^2', color='blue')  # Line plot\n",
    "\n",
    "# Customize the plot\n",
    "plt.title('Line Plot of y = x^2')           # Add title\n",
    "plt.xlabel('x values')                      # Label for x-axis\n",
    "plt.ylabel('y values (x squared)')          # Label for y-axis\n",
    "plt.grid(True)                              # Show grid\n",
    "plt.legend()                                # Show legend\n",
    "\n",
    "# Display the plot\n",
    "plt.show()\n"
   ]
  }
 ],
 "metadata": {
  "kernelspec": {
   "display_name": "Python 3",
   "language": "python",
   "name": "python3"
  },
  "language_info": {
   "name": "python",
   "version": "3.9.2"
  }
 },
 "nbformat": 4,
 "nbformat_minor": 2
}
